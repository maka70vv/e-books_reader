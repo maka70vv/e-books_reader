{
 "cells": [
  {
   "metadata": {},
   "cell_type": "markdown",
   "source": "Подготовка датасета",
   "id": "3f60b869b026352f"
  },
  {
   "cell_type": "code",
   "id": "initial_id",
   "metadata": {
    "collapsed": true,
    "ExecuteTime": {
     "end_time": "2025-03-28T07:51:31.084497Z",
     "start_time": "2025-03-28T07:51:20.764427Z"
    }
   },
   "source": [
    "import os\n",
    "\n",
    "import librosa\n",
    "import pandas as pd\n",
    "\n",
    "# Пути к файлам\n",
    "dataset_path = \"./data/normal_voices\"\n",
    "xlsx_path = \"./data/Speeches.xlsx\"\n",
    "\n",
    "# Читаем данные из Excel\n",
    "df = pd.read_excel(xlsx_path)\n",
    "\n",
    "# Загружаем аудиофайлы и их MFCC\n",
    "audio_data = {}\n",
    "for _, row in df.iterrows():\n",
    "    wav_file = row[\"file\"]\n",
    "    text = row[\"text\"]\n",
    "    audio_path = os.path.join(dataset_path, f\"{wav_file}.wav\")\n",
    "\n",
    "    if os.path.exists(audio_path):\n",
    "        y, sr = librosa.load(audio_path, sr=22050)\n",
    "        mfcc = librosa.feature.mfcc(y=y, sr=sr)\n",
    "        audio_data[text] = (y, sr, mfcc)"
   ],
   "outputs": [
    {
     "name": "stderr",
     "output_type": "stream",
     "text": [
      "/home/makarov/miniconda3/lib/python3.12/site-packages/librosa/core/spectrum.py:266: UserWarning: n_fft=2048 is too large for input signal of length=0\n",
      "  warnings.warn(\n"
     ]
    }
   ],
   "execution_count": 9
  },
  {
   "metadata": {},
   "cell_type": "markdown",
   "source": "Графовая модель на основе DTW",
   "id": "ea0f697142b914c0"
  },
  {
   "metadata": {
    "ExecuteTime": {
     "end_time": "2025-03-28T07:51:31.097772Z",
     "start_time": "2025-03-28T07:51:31.089944Z"
    }
   },
   "cell_type": "code",
   "source": [
    "\n",
    "from fastdtw import fastdtw\n",
    "\n",
    "# Функция поиска ближайшего совпадения\n",
    "def find_closest_match(text_mfcc, audio_data):\n",
    "    best_match = None\n",
    "    best_dist = float(\"inf\")\n",
    "\n",
    "    for text, (y, sr, mfcc) in audio_data.items():\n",
    "        dist, _ = fastdtw(text_mfcc.T, mfcc.T)\n",
    "        if dist < best_dist:\n",
    "            best_dist = dist\n",
    "            best_match = y\n",
    "\n",
    "    return best_match\n",
    "\n",
    "# Генерация речи\n",
    "def generate_speech(text, audio_data):\n",
    "    # Если текст уже есть в аудиоданных, возвращаем его напрямую\n",
    "    if text in audio_data:\n",
    "        speech, sr, _ = audio_data[text]\n",
    "    else:\n",
    "        # Иначе ищем наиболее похожий фрагмент\n",
    "        ref_text = list(audio_data.keys())[0]  # Выбираем любой реальный образец\n",
    "        ref_audio, ref_sr, ref_mfcc = audio_data[ref_text]\n",
    "\n",
    "        # Берем MFCC случайного реального аудиофайла (чтобы избежать случайного шума)\n",
    "        text_mfcc = ref_mfcc\n",
    "        speech = find_closest_match(text_mfcc, audio_data)\n",
    "\n",
    "    # Сохраняем результат\n",
    "    sf.write(\"output_dtw.wav\", speech, 22050)\n",
    "\n",
    "# Пример вызова\n",
    "generate_speech(\"Привет\", audio_data)\n"
   ],
   "id": "d170011bf617216e",
   "outputs": [],
   "execution_count": 10
  },
  {
   "metadata": {},
   "cell_type": "markdown",
   "source": "WaveNet с обучением с нуля",
   "id": "7f173f71f3bd9da6"
  },
  {
   "metadata": {
    "ExecuteTime": {
     "end_time": "2025-03-28T07:58:21.144924Z",
     "start_time": "2025-03-28T07:58:20.979449Z"
    }
   },
   "cell_type": "code",
   "source": [
    "import torch\n",
    "import torch.nn as nn\n",
    "import torch.optim as optim\n",
    "import librosa\n",
    "import os\n",
    "import pandas as pd\n",
    "\n",
    "\n",
    "# Читаем Excel-файл\n",
    "df = pd.read_excel(xlsx_path)\n",
    "\n",
    "# Модель WaveNet\n",
    "class WaveNet(nn.Module):\n",
    "    def __init__(self, n_input, n_output):\n",
    "        super(WaveNet, self).__init__()\n",
    "        # Первый слой: 128 каналов на входе, 32 канала на выходе\n",
    "        self.conv1 = nn.Conv1d(n_input, 32, kernel_size=3, padding=1)\n",
    "        self.relu = nn.ReLU()\n",
    "        # Второй слой: 32 канала на входе, n_output на выходе\n",
    "        self.conv2 = nn.Conv1d(32, n_output, kernel_size=3, padding=1)\n",
    "\n",
    "    def forward(self, x):\n",
    "        x = self.relu(self.conv1(x))\n",
    "        x = self.conv2(x)\n",
    "        return x\n",
    "\n",
    "# Генерация спектрограммы\n",
    "def audio_to_mel(audio_path):\n",
    "    y, sr = librosa.load(audio_path, sr=22050)\n",
    "    mel = librosa.feature.melspectrogram(y=y, sr=sr)\n",
    "    return mel\n",
    "\n",
    "# Обучение модели\n",
    "def train_wavenet(dataset_path, df):\n",
    "    n_input = 128  # Размерность Mel-спектрограммы (каналы)\n",
    "    n_output = 128  # Размерность выходных данных\n",
    "\n",
    "    model = WaveNet(n_input=n_input, n_output=n_output)\n",
    "    optimizer = optim.Adam(model.parameters())\n",
    "    criterion = nn.MSELoss()\n",
    "\n",
    "    for epoch in range(10):\n",
    "        for _, row in df.iterrows():\n",
    "            audio_path = os.path.join(dataset_path, f\"{row['file']}.wav\")\n",
    "\n",
    "            if not os.path.exists(audio_path):\n",
    "                continue  # Пропустить, если файл не найден\n",
    "\n",
    "            mel = audio_to_mel(audio_path)\n",
    "            mel = torch.tensor(mel).unsqueeze(0).float()  # Добавляем batch dimension: (1, freq, time)\n",
    "\n",
    "            # Теперь меняем местами частоты и время, так как Conv1d ожидает (batch, channels, time)\n",
    "            mel = mel.permute(0, 2, 1)  # (1, time, freq)\n",
    "\n",
    "            output = model(mel)\n",
    "\n",
    "            loss = criterion(output, mel)  # Выход должен совпадать с входом\n",
    "            optimizer.zero_grad()\n",
    "            loss.backward()\n",
    "            optimizer.step()\n",
    "\n",
    "        print(f\"Epoch {epoch}, Loss: {loss.item()}\")\n",
    "\n",
    "# Запуск обучения\n",
    "train_wavenet(dataset_path, df)\n"
   ],
   "id": "cb02da692d5a92e9",
   "outputs": [
    {
     "ename": "RuntimeError",
     "evalue": "Given groups=1, weight of size [32, 128, 3], expected input[1, 58, 128] to have 128 channels, but got 58 channels instead",
     "output_type": "error",
     "traceback": [
      "\u001B[0;31m---------------------------------------------------------------------------\u001B[0m",
      "\u001B[0;31mRuntimeError\u001B[0m                              Traceback (most recent call last)",
      "Cell \u001B[0;32mIn[17], line 65\u001B[0m\n\u001B[1;32m     62\u001B[0m         \u001B[38;5;28mprint\u001B[39m(\u001B[38;5;124mf\u001B[39m\u001B[38;5;124m\"\u001B[39m\u001B[38;5;124mEpoch \u001B[39m\u001B[38;5;132;01m{\u001B[39;00mepoch\u001B[38;5;132;01m}\u001B[39;00m\u001B[38;5;124m, Loss: \u001B[39m\u001B[38;5;132;01m{\u001B[39;00mloss\u001B[38;5;241m.\u001B[39mitem()\u001B[38;5;132;01m}\u001B[39;00m\u001B[38;5;124m\"\u001B[39m)\n\u001B[1;32m     64\u001B[0m \u001B[38;5;66;03m# Запуск обучения\u001B[39;00m\n\u001B[0;32m---> 65\u001B[0m train_wavenet(dataset_path, df)\n",
      "Cell \u001B[0;32mIn[17], line 55\u001B[0m, in \u001B[0;36mtrain_wavenet\u001B[0;34m(dataset_path, df)\u001B[0m\n\u001B[1;32m     52\u001B[0m \u001B[38;5;66;03m# Теперь меняем местами частоты и время, так как Conv1d ожидает (batch, channels, time)\u001B[39;00m\n\u001B[1;32m     53\u001B[0m mel \u001B[38;5;241m=\u001B[39m mel\u001B[38;5;241m.\u001B[39mpermute(\u001B[38;5;241m0\u001B[39m, \u001B[38;5;241m2\u001B[39m, \u001B[38;5;241m1\u001B[39m)  \u001B[38;5;66;03m# (1, time, freq)\u001B[39;00m\n\u001B[0;32m---> 55\u001B[0m output \u001B[38;5;241m=\u001B[39m model(mel)\n\u001B[1;32m     57\u001B[0m loss \u001B[38;5;241m=\u001B[39m criterion(output, mel)  \u001B[38;5;66;03m# Выход должен совпадать с входом\u001B[39;00m\n\u001B[1;32m     58\u001B[0m optimizer\u001B[38;5;241m.\u001B[39mzero_grad()\n",
      "File \u001B[0;32m~/miniconda3/lib/python3.12/site-packages/torch/nn/modules/module.py:1739\u001B[0m, in \u001B[0;36mModule._wrapped_call_impl\u001B[0;34m(self, *args, **kwargs)\u001B[0m\n\u001B[1;32m   1737\u001B[0m     \u001B[38;5;28;01mreturn\u001B[39;00m \u001B[38;5;28mself\u001B[39m\u001B[38;5;241m.\u001B[39m_compiled_call_impl(\u001B[38;5;241m*\u001B[39margs, \u001B[38;5;241m*\u001B[39m\u001B[38;5;241m*\u001B[39mkwargs)  \u001B[38;5;66;03m# type: ignore[misc]\u001B[39;00m\n\u001B[1;32m   1738\u001B[0m \u001B[38;5;28;01melse\u001B[39;00m:\n\u001B[0;32m-> 1739\u001B[0m     \u001B[38;5;28;01mreturn\u001B[39;00m \u001B[38;5;28mself\u001B[39m\u001B[38;5;241m.\u001B[39m_call_impl(\u001B[38;5;241m*\u001B[39margs, \u001B[38;5;241m*\u001B[39m\u001B[38;5;241m*\u001B[39mkwargs)\n",
      "File \u001B[0;32m~/miniconda3/lib/python3.12/site-packages/torch/nn/modules/module.py:1750\u001B[0m, in \u001B[0;36mModule._call_impl\u001B[0;34m(self, *args, **kwargs)\u001B[0m\n\u001B[1;32m   1745\u001B[0m \u001B[38;5;66;03m# If we don't have any hooks, we want to skip the rest of the logic in\u001B[39;00m\n\u001B[1;32m   1746\u001B[0m \u001B[38;5;66;03m# this function, and just call forward.\u001B[39;00m\n\u001B[1;32m   1747\u001B[0m \u001B[38;5;28;01mif\u001B[39;00m \u001B[38;5;129;01mnot\u001B[39;00m (\u001B[38;5;28mself\u001B[39m\u001B[38;5;241m.\u001B[39m_backward_hooks \u001B[38;5;129;01mor\u001B[39;00m \u001B[38;5;28mself\u001B[39m\u001B[38;5;241m.\u001B[39m_backward_pre_hooks \u001B[38;5;129;01mor\u001B[39;00m \u001B[38;5;28mself\u001B[39m\u001B[38;5;241m.\u001B[39m_forward_hooks \u001B[38;5;129;01mor\u001B[39;00m \u001B[38;5;28mself\u001B[39m\u001B[38;5;241m.\u001B[39m_forward_pre_hooks\n\u001B[1;32m   1748\u001B[0m         \u001B[38;5;129;01mor\u001B[39;00m _global_backward_pre_hooks \u001B[38;5;129;01mor\u001B[39;00m _global_backward_hooks\n\u001B[1;32m   1749\u001B[0m         \u001B[38;5;129;01mor\u001B[39;00m _global_forward_hooks \u001B[38;5;129;01mor\u001B[39;00m _global_forward_pre_hooks):\n\u001B[0;32m-> 1750\u001B[0m     \u001B[38;5;28;01mreturn\u001B[39;00m forward_call(\u001B[38;5;241m*\u001B[39margs, \u001B[38;5;241m*\u001B[39m\u001B[38;5;241m*\u001B[39mkwargs)\n\u001B[1;32m   1752\u001B[0m result \u001B[38;5;241m=\u001B[39m \u001B[38;5;28;01mNone\u001B[39;00m\n\u001B[1;32m   1753\u001B[0m called_always_called_hooks \u001B[38;5;241m=\u001B[39m \u001B[38;5;28mset\u001B[39m()\n",
      "Cell \u001B[0;32mIn[17], line 23\u001B[0m, in \u001B[0;36mWaveNet.forward\u001B[0;34m(self, x)\u001B[0m\n\u001B[1;32m     22\u001B[0m \u001B[38;5;28;01mdef\u001B[39;00m \u001B[38;5;21mforward\u001B[39m(\u001B[38;5;28mself\u001B[39m, x):\n\u001B[0;32m---> 23\u001B[0m     x \u001B[38;5;241m=\u001B[39m \u001B[38;5;28mself\u001B[39m\u001B[38;5;241m.\u001B[39mrelu(\u001B[38;5;28mself\u001B[39m\u001B[38;5;241m.\u001B[39mconv1(x))\n\u001B[1;32m     24\u001B[0m     x \u001B[38;5;241m=\u001B[39m \u001B[38;5;28mself\u001B[39m\u001B[38;5;241m.\u001B[39mconv2(x)\n\u001B[1;32m     25\u001B[0m     \u001B[38;5;28;01mreturn\u001B[39;00m x\n",
      "File \u001B[0;32m~/miniconda3/lib/python3.12/site-packages/torch/nn/modules/module.py:1739\u001B[0m, in \u001B[0;36mModule._wrapped_call_impl\u001B[0;34m(self, *args, **kwargs)\u001B[0m\n\u001B[1;32m   1737\u001B[0m     \u001B[38;5;28;01mreturn\u001B[39;00m \u001B[38;5;28mself\u001B[39m\u001B[38;5;241m.\u001B[39m_compiled_call_impl(\u001B[38;5;241m*\u001B[39margs, \u001B[38;5;241m*\u001B[39m\u001B[38;5;241m*\u001B[39mkwargs)  \u001B[38;5;66;03m# type: ignore[misc]\u001B[39;00m\n\u001B[1;32m   1738\u001B[0m \u001B[38;5;28;01melse\u001B[39;00m:\n\u001B[0;32m-> 1739\u001B[0m     \u001B[38;5;28;01mreturn\u001B[39;00m \u001B[38;5;28mself\u001B[39m\u001B[38;5;241m.\u001B[39m_call_impl(\u001B[38;5;241m*\u001B[39margs, \u001B[38;5;241m*\u001B[39m\u001B[38;5;241m*\u001B[39mkwargs)\n",
      "File \u001B[0;32m~/miniconda3/lib/python3.12/site-packages/torch/nn/modules/module.py:1750\u001B[0m, in \u001B[0;36mModule._call_impl\u001B[0;34m(self, *args, **kwargs)\u001B[0m\n\u001B[1;32m   1745\u001B[0m \u001B[38;5;66;03m# If we don't have any hooks, we want to skip the rest of the logic in\u001B[39;00m\n\u001B[1;32m   1746\u001B[0m \u001B[38;5;66;03m# this function, and just call forward.\u001B[39;00m\n\u001B[1;32m   1747\u001B[0m \u001B[38;5;28;01mif\u001B[39;00m \u001B[38;5;129;01mnot\u001B[39;00m (\u001B[38;5;28mself\u001B[39m\u001B[38;5;241m.\u001B[39m_backward_hooks \u001B[38;5;129;01mor\u001B[39;00m \u001B[38;5;28mself\u001B[39m\u001B[38;5;241m.\u001B[39m_backward_pre_hooks \u001B[38;5;129;01mor\u001B[39;00m \u001B[38;5;28mself\u001B[39m\u001B[38;5;241m.\u001B[39m_forward_hooks \u001B[38;5;129;01mor\u001B[39;00m \u001B[38;5;28mself\u001B[39m\u001B[38;5;241m.\u001B[39m_forward_pre_hooks\n\u001B[1;32m   1748\u001B[0m         \u001B[38;5;129;01mor\u001B[39;00m _global_backward_pre_hooks \u001B[38;5;129;01mor\u001B[39;00m _global_backward_hooks\n\u001B[1;32m   1749\u001B[0m         \u001B[38;5;129;01mor\u001B[39;00m _global_forward_hooks \u001B[38;5;129;01mor\u001B[39;00m _global_forward_pre_hooks):\n\u001B[0;32m-> 1750\u001B[0m     \u001B[38;5;28;01mreturn\u001B[39;00m forward_call(\u001B[38;5;241m*\u001B[39margs, \u001B[38;5;241m*\u001B[39m\u001B[38;5;241m*\u001B[39mkwargs)\n\u001B[1;32m   1752\u001B[0m result \u001B[38;5;241m=\u001B[39m \u001B[38;5;28;01mNone\u001B[39;00m\n\u001B[1;32m   1753\u001B[0m called_always_called_hooks \u001B[38;5;241m=\u001B[39m \u001B[38;5;28mset\u001B[39m()\n",
      "File \u001B[0;32m~/miniconda3/lib/python3.12/site-packages/torch/nn/modules/conv.py:375\u001B[0m, in \u001B[0;36mConv1d.forward\u001B[0;34m(self, input)\u001B[0m\n\u001B[1;32m    374\u001B[0m \u001B[38;5;28;01mdef\u001B[39;00m \u001B[38;5;21mforward\u001B[39m(\u001B[38;5;28mself\u001B[39m, \u001B[38;5;28minput\u001B[39m: Tensor) \u001B[38;5;241m-\u001B[39m\u001B[38;5;241m>\u001B[39m Tensor:\n\u001B[0;32m--> 375\u001B[0m     \u001B[38;5;28;01mreturn\u001B[39;00m \u001B[38;5;28mself\u001B[39m\u001B[38;5;241m.\u001B[39m_conv_forward(\u001B[38;5;28minput\u001B[39m, \u001B[38;5;28mself\u001B[39m\u001B[38;5;241m.\u001B[39mweight, \u001B[38;5;28mself\u001B[39m\u001B[38;5;241m.\u001B[39mbias)\n",
      "File \u001B[0;32m~/miniconda3/lib/python3.12/site-packages/torch/nn/modules/conv.py:370\u001B[0m, in \u001B[0;36mConv1d._conv_forward\u001B[0;34m(self, input, weight, bias)\u001B[0m\n\u001B[1;32m    358\u001B[0m \u001B[38;5;28;01mif\u001B[39;00m \u001B[38;5;28mself\u001B[39m\u001B[38;5;241m.\u001B[39mpadding_mode \u001B[38;5;241m!=\u001B[39m \u001B[38;5;124m\"\u001B[39m\u001B[38;5;124mzeros\u001B[39m\u001B[38;5;124m\"\u001B[39m:\n\u001B[1;32m    359\u001B[0m     \u001B[38;5;28;01mreturn\u001B[39;00m F\u001B[38;5;241m.\u001B[39mconv1d(\n\u001B[1;32m    360\u001B[0m         F\u001B[38;5;241m.\u001B[39mpad(\n\u001B[1;32m    361\u001B[0m             \u001B[38;5;28minput\u001B[39m, \u001B[38;5;28mself\u001B[39m\u001B[38;5;241m.\u001B[39m_reversed_padding_repeated_twice, mode\u001B[38;5;241m=\u001B[39m\u001B[38;5;28mself\u001B[39m\u001B[38;5;241m.\u001B[39mpadding_mode\n\u001B[0;32m   (...)\u001B[0m\n\u001B[1;32m    368\u001B[0m         \u001B[38;5;28mself\u001B[39m\u001B[38;5;241m.\u001B[39mgroups,\n\u001B[1;32m    369\u001B[0m     )\n\u001B[0;32m--> 370\u001B[0m \u001B[38;5;28;01mreturn\u001B[39;00m F\u001B[38;5;241m.\u001B[39mconv1d(\n\u001B[1;32m    371\u001B[0m     \u001B[38;5;28minput\u001B[39m, weight, bias, \u001B[38;5;28mself\u001B[39m\u001B[38;5;241m.\u001B[39mstride, \u001B[38;5;28mself\u001B[39m\u001B[38;5;241m.\u001B[39mpadding, \u001B[38;5;28mself\u001B[39m\u001B[38;5;241m.\u001B[39mdilation, \u001B[38;5;28mself\u001B[39m\u001B[38;5;241m.\u001B[39mgroups\n\u001B[1;32m    372\u001B[0m )\n",
      "\u001B[0;31mRuntimeError\u001B[0m: Given groups=1, weight of size [32, 128, 3], expected input[1, 58, 128] to have 128 channels, but got 58 channels instead"
     ]
    }
   ],
   "execution_count": 17
  },
  {
   "metadata": {},
   "cell_type": "markdown",
   "source": " LSTM + Spectrogram-based",
   "id": "b47778e4139ce9d"
  },
  {
   "metadata": {},
   "cell_type": "code",
   "outputs": [],
   "execution_count": null,
   "source": [
    "import torch\n",
    "import torch.nn as nn\n",
    "import librosa\n",
    "import soundfile as sf\n",
    "\n",
    "class TextToSpectrogramLSTM(nn.Module):\n",
    "    def __init__(self, input_size, hidden_size, output_size):\n",
    "        super(TextToSpectrogramLSTM, self).__init__()\n",
    "        self.lstm = nn.LSTM(input_size, hidden_size)\n",
    "        self.fc = nn.Linear(hidden_size, output_size)\n",
    "\n",
    "    def forward(self, x):\n",
    "        out, _ = self.lstm(x)\n",
    "        out = self.fc(out)\n",
    "        return out\n",
    "\n",
    "# Пример создания модели и тренировки\n",
    "def train_lstm(dataset_path, df):\n",
    "    model = TextToSpectrogramLSTM(input_size=256, hidden_size=512, output_size=128)\n",
    "    optimizer = torch.optim.Adam(model.parameters())\n",
    "    criterion = nn.MSELoss()\n",
    "\n",
    "    # Тренировка\n",
    "    for epoch in range(10):  # Количество эпох\n",
    "        for _, row in df.iterrows():\n",
    "            wav_file = row['file']\n",
    "            text = row['text']\n",
    "\n",
    "            # Преобразование аудио в спектрограмму\n",
    "            mel = audio_to_mel(audio_path)\n",
    "            mel = torch.tensor(mel).unsqueeze(0).float()\n",
    "\n",
    "            # Прогон через модель\n",
    "            output = model(mel)\n",
    "            loss = criterion(output, mel)\n",
    "\n",
    "            optimizer.zero_grad()\n",
    "            loss.backward()\n",
    "            optimizer.step()\n",
    "\n",
    "        print(f\"Epoch {epoch}, Loss: {loss.item()}\")\n",
    "\n",
    "train_lstm(dataset_path, df)\n"
   ],
   "id": "128854c8ace3af92"
  }
 ],
 "metadata": {
  "kernelspec": {
   "display_name": "Python 3",
   "language": "python",
   "name": "python3"
  },
  "language_info": {
   "codemirror_mode": {
    "name": "ipython",
    "version": 2
   },
   "file_extension": ".py",
   "mimetype": "text/x-python",
   "name": "python",
   "nbconvert_exporter": "python",
   "pygments_lexer": "ipython2",
   "version": "2.7.6"
  }
 },
 "nbformat": 4,
 "nbformat_minor": 5
}
